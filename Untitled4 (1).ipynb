{
  "nbformat": 4,
  "nbformat_minor": 0,
  "metadata": {
    "colab": {
      "provenance": []
    },
    "kernelspec": {
      "name": "python3",
      "display_name": "Python 3"
    },
    "language_info": {
      "name": "python"
    }
  },
  "cells": [
    {
      "cell_type": "markdown",
      "source": [
        "#  **HAND WRITTEN DIGIT PREDICTION-CLASSIFICATION ANALYSIS**\n",
        "The digit dataset contains 8x8 pixel images of digits.The image attribute of a datset stores 8x8 arrays of grayscalevalues for each image.We will use this image to visualize the first 4 images.The target attribute of the dataset stores the digit each image represent"
      ],
      "metadata": {
        "id": "hfd9tJsnO3sW"
      }
    },
    {
      "cell_type": "markdown",
      "source": [
        "## IMPORT LIBRARIES"
      ],
      "metadata": {
        "id": "4KQlUSCbRE9V"
      }
    },
    {
      "cell_type": "code",
      "source": [
        "import pandas as pd\n",
        "import numpy as np\n",
        "import matplotlib.pyplot as plt"
      ],
      "metadata": {
        "id": "Y93EYftdRQec"
      },
      "execution_count": 2,
      "outputs": []
    },
    {
      "cell_type": "markdown",
      "source": [
        "# IMPORT DATA"
      ],
      "metadata": {
        "id": "w2sbAtxuRk07"
      }
    },
    {
      "cell_type": "code",
      "source": [
        "from sklearn.datasets import load_digits"
      ],
      "metadata": {
        "id": "VGIx7GoiRqqq"
      },
      "execution_count": 3,
      "outputs": []
    },
    {
      "cell_type": "code",
      "source": [
        "df=load_digits()"
      ],
      "metadata": {
        "id": "7E6FaPcOSBMh"
      },
      "execution_count": 4,
      "outputs": []
    },
    {
      "cell_type": "code",
      "source": [
        "_,axes=plt.subplots(nrows=1,ncols=4,figsize=(10,3))\n",
        "for ax,image,label in zip(axes,df.images,df.target):\n",
        "  ax.set_axis_off()\n",
        "  ax.imshow(image,cmap=plt.cm.gray_r,interpolation=\"nearest\")\n",
        "  ax.set_title(\"Training: %i\"% label)"
      ],
      "metadata": {
        "colab": {
          "base_uri": "https://localhost:8080/",
          "height": 227
        },
        "id": "DE0-sT1pSF64",
        "outputId": "0be843b5-6c04-452e-f61e-c4c5e187249e"
      },
      "execution_count": 7,
      "outputs": [
        {
          "output_type": "display_data",
          "data": {
            "text/plain": [
              "<Figure size 1000x300 with 4 Axes>"
            ],
            "image/png": "[encoded data removed]"
          },
          "metadata": {}
        }
      ]
    },
    {
      "cell_type": "markdown",
      "source": [
        "# DATA PROCESSING"
      ],
      "metadata": {
        "id": "pdnh-MLvTSb1"
      }
    },
    {
      "cell_type": "markdown",
      "source": [
        "### Flatten Image"
      ],
      "metadata": {
        "id": "XRUWdNI8TZ2t"
      }
    },
    {
      "cell_type": "code",
      "source": [
        "df.images.shape"
      ],
      "metadata": {
        "colab": {
          "base_uri": "https://localhost:8080/"
        },
        "id": "c1uH1SaITYjN",
        "outputId": "f90ca323-2fbd-42d1-8ba6-9f29aecdfbee"
      },
      "execution_count": 8,
      "outputs": [
        {
          "output_type": "execute_result",
          "data": {
            "text/plain": [
              "(1797, 8, 8)"
            ]
          },
          "metadata": {},
          "execution_count": 8
        }
      ]
    },
    {
      "cell_type": "code",
      "source": [
        "df.images[0]"
      ],
      "metadata": {
        "colab": {
          "base_uri": "https://localhost:8080/"
        },
        "id": "tkOOIo1bTYpI",
        "outputId": "b5d25c9f-9318-4f67-c249-3bcb04e0f70a"
      },
      "execution_count": 9,
      "outputs": [
        {
          "output_type": "execute_result",
          "data": {
            "text/plain": [
              "array([[ 0.,  0.,  5., 13.,  9.,  1.,  0.,  0.],\n",
              "       [ 0.,  0., 13., 15., 10., 15.,  5.,  0.],\n",
              "       [ 0.,  3., 15.,  2.,  0., 11.,  8.,  0.],\n",
              "       [ 0.,  4., 12.,  0.,  0.,  8.,  8.,  0.],\n",
              "       [ 0.,  5.,  8.,  0.,  0.,  9.,  8.,  0.],\n",
              "       [ 0.,  4., 11.,  0.,  1., 12.,  7.,  0.],\n",
              "       [ 0.,  2., 14.,  5., 10., 12.,  0.,  0.],\n",
              "       [ 0.,  0.,  6., 13., 10.,  0.,  0.,  0.]])"
            ]
          },
          "metadata": {},
          "execution_count": 9
        }
      ]
    },
    {
      "cell_type": "code",
      "source": [
        "df.images[0].shape"
      ],
      "metadata": {
        "colab": {
          "base_uri": "https://localhost:8080/"
        },
        "id": "LRntslb0TtPo",
        "outputId": "17a09a05-fdd6-451f-f423-656c0b3a3263"
      },
      "execution_count": 10,
      "outputs": [
        {
          "output_type": "execute_result",
          "data": {
            "text/plain": [
              "(8, 8)"
            ]
          },
          "metadata": {},
          "execution_count": 10
        }
      ]
    },
    {
      "cell_type": "code",
      "source": [
        "len(df.images)"
      ],
      "metadata": {
        "colab": {
          "base_uri": "https://localhost:8080/"
        },
        "id": "JR59Ms5fTy8W",
        "outputId": "825365f5-1cae-40a8-adae-606641ab6c6f"
      },
      "execution_count": 11,
      "outputs": [
        {
          "output_type": "execute_result",
          "data": {
            "text/plain": [
              "1797"
            ]
          },
          "metadata": {},
          "execution_count": 11
        }
      ]
    },
    {
      "cell_type": "code",
      "source": [
        "n_samples=len(df.images)\n",
        "data=df.images.reshape((n_samples,-1))"
      ],
      "metadata": {
        "id": "5U2d6zBsT7cM"
      },
      "execution_count": 12,
      "outputs": []
    },
    {
      "cell_type": "code",
      "source": [
        "data[0]"
      ],
      "metadata": {
        "colab": {
          "base_uri": "https://localhost:8080/"
        },
        "id": "F92f3xj4UFaI",
        "outputId": "1d26536b-ec16-4371-ed59-0fd1340c6b7a"
      },
      "execution_count": 13,
      "outputs": [
        {
          "output_type": "execute_result",
          "data": {
            "text/plain": [
              "array([ 0.,  0.,  5., 13.,  9.,  1.,  0.,  0.,  0.,  0., 13., 15., 10.,\n",
              "       15.,  5.,  0.,  0.,  3., 15.,  2.,  0., 11.,  8.,  0.,  0.,  4.,\n",
              "       12.,  0.,  0.,  8.,  8.,  0.,  0.,  5.,  8.,  0.,  0.,  9.,  8.,\n",
              "        0.,  0.,  4., 11.,  0.,  1., 12.,  7.,  0.,  0.,  2., 14.,  5.,\n",
              "       10., 12.,  0.,  0.,  0.,  0.,  6., 13., 10.,  0.,  0.,  0.])"
            ]
          },
          "metadata": {},
          "execution_count": 13
        }
      ]
    },
    {
      "cell_type": "code",
      "source": [
        "data[0].shape"
      ],
      "metadata": {
        "colab": {
          "base_uri": "https://localhost:8080/"
        },
        "id": "aZjH4fwQUG_k",
        "outputId": "72a53f42-5e42-40bd-cdfe-5bfbf96220e5"
      },
      "execution_count": 14,
      "outputs": [
        {
          "output_type": "execute_result",
          "data": {
            "text/plain": [
              "(64,)"
            ]
          },
          "metadata": {},
          "execution_count": 14
        }
      ]
    },
    {
      "cell_type": "code",
      "source": [
        "data.shape"
      ],
      "metadata": {
        "colab": {
          "base_uri": "https://localhost:8080/"
        },
        "id": "YB690OyQUI1c",
        "outputId": "8f801ad3-66e3-420b-f4b7-88c02995696b"
      },
      "execution_count": 15,
      "outputs": [
        {
          "output_type": "execute_result",
          "data": {
            "text/plain": [
              "(1797, 64)"
            ]
          },
          "metadata": {},
          "execution_count": 15
        }
      ]
    },
    {
      "cell_type": "markdown",
      "source": [
        "# SCALING IMAGE DATA"
      ],
      "metadata": {
        "id": "bXMkL_SsUTZm"
      }
    },
    {
      "cell_type": "code",
      "source": [
        "data.min()"
      ],
      "metadata": {
        "colab": {
          "base_uri": "https://localhost:8080/"
        },
        "id": "x1yy8L3IUY2n",
        "outputId": "aec8d32b-20c3-4c79-e7c7-cd1b57254a21"
      },
      "execution_count": 16,
      "outputs": [
        {
          "output_type": "execute_result",
          "data": {
            "text/plain": [
              "0.0"
            ]
          },
          "metadata": {},
          "execution_count": 16
        }
      ]
    },
    {
      "cell_type": "code",
      "source": [
        "data.max()"
      ],
      "metadata": {
        "colab": {
          "base_uri": "https://localhost:8080/"
        },
        "id": "Ec8oc0u4UbrJ",
        "outputId": "0f5f493e-0ffc-4791-84b7-b7c4ec5918a8"
      },
      "execution_count": 17,
      "outputs": [
        {
          "output_type": "execute_result",
          "data": {
            "text/plain": [
              "16.0"
            ]
          },
          "metadata": {},
          "execution_count": 17
        }
      ]
    },
    {
      "cell_type": "code",
      "source": [
        "data=data/16"
      ],
      "metadata": {
        "id": "h5IaGd0nUcxQ"
      },
      "execution_count": 18,
      "outputs": []
    },
    {
      "cell_type": "code",
      "source": [
        "data.min()"
      ],
      "metadata": {
        "colab": {
          "base_uri": "https://localhost:8080/"
        },
        "id": "UPtOkHOlUeu-",
        "outputId": "75ec0be6-20f0-413a-a31e-b020aa2606bf"
      },
      "execution_count": 19,
      "outputs": [
        {
          "output_type": "execute_result",
          "data": {
            "text/plain": [
              "0.0"
            ]
          },
          "metadata": {},
          "execution_count": 19
        }
      ]
    },
    {
      "cell_type": "code",
      "source": [
        "data.max()"
      ],
      "metadata": {
        "colab": {
          "base_uri": "https://localhost:8080/"
        },
        "id": "6CHL39AnUgM3",
        "outputId": "a3a69009-5646-4030-d55a-1194655b1dd8"
      },
      "execution_count": 20,
      "outputs": [
        {
          "output_type": "execute_result",
          "data": {
            "text/plain": [
              "1.0"
            ]
          },
          "metadata": {},
          "execution_count": 20
        }
      ]
    },
    {
      "cell_type": "code",
      "source": [
        "data[0]"
      ],
      "metadata": {
        "colab": {
          "base_uri": "https://localhost:8080/"
        },
        "id": "8m6o7kagUjmK",
        "outputId": "fbc1fa5f-d1a4-4009-f684-4503703bfd8d"
      },
      "execution_count": 21,
      "outputs": [
        {
          "output_type": "execute_result",
          "data": {
            "text/plain": [
              "array([0.    , 0.    , 0.3125, 0.8125, 0.5625, 0.0625, 0.    , 0.    ,\n",
              "       0.    , 0.    , 0.8125, 0.9375, 0.625 , 0.9375, 0.3125, 0.    ,\n",
              "       0.    , 0.1875, 0.9375, 0.125 , 0.    , 0.6875, 0.5   , 0.    ,\n",
              "       0.    , 0.25  , 0.75  , 0.    , 0.    , 0.5   , 0.5   , 0.    ,\n",
              "       0.    , 0.3125, 0.5   , 0.    , 0.    , 0.5625, 0.5   , 0.    ,\n",
              "       0.    , 0.25  , 0.6875, 0.    , 0.0625, 0.75  , 0.4375, 0.    ,\n",
              "       0.    , 0.125 , 0.875 , 0.3125, 0.625 , 0.75  , 0.    , 0.    ,\n",
              "       0.    , 0.    , 0.375 , 0.8125, 0.625 , 0.    , 0.    , 0.    ])"
            ]
          },
          "metadata": {},
          "execution_count": 21
        }
      ]
    },
    {
      "cell_type": "markdown",
      "source": [
        "# TRAIN TEST SPLIT DATA"
      ],
      "metadata": {
        "id": "TVHah3CMUnL2"
      }
    },
    {
      "cell_type": "code",
      "source": [
        "from sklearn.model_selection import train_test_split"
      ],
      "metadata": {
        "id": "yUDGOXBKVJll"
      },
      "execution_count": 28,
      "outputs": []
    },
    {
      "cell_type": "code",
      "source": [
        "X_train,X_test,y_train,y_test=train_test_split(data,df.target,test_size=0.3)"
      ],
      "metadata": {
        "id": "NaMbGSfEVMNR"
      },
      "execution_count": 30,
      "outputs": []
    },
    {
      "cell_type": "code",
      "source": [
        "X_train.shape,X_test.shape,y_train.shape,y_test.shape"
      ],
      "metadata": {
        "colab": {
          "base_uri": "https://localhost:8080/"
        },
        "id": "OkkLA54cVMPS",
        "outputId": "38127d57-7a12-4194-d487-e70c53f96364"
      },
      "execution_count": 31,
      "outputs": [
        {
          "output_type": "execute_result",
          "data": {
            "text/plain": [
              "((1257, 64), (540, 64), (1257,), (540,))"
            ]
          },
          "metadata": {},
          "execution_count": 31
        }
      ]
    },
    {
      "cell_type": "markdown",
      "source": [
        "# RANDOM FOREST MODEL"
      ],
      "metadata": {
        "id": "F4LyGoQ_VSdb"
      }
    },
    {
      "cell_type": "code",
      "source": [
        "from sklearn.ensemble import RandomForestClassifier"
      ],
      "metadata": {
        "id": "ztqR5NE3UrJy"
      },
      "execution_count": 23,
      "outputs": []
    },
    {
      "cell_type": "code",
      "source": [
        "rf=RandomForestClassifier()"
      ],
      "metadata": {
        "id": "ygZhAIFfU0HI"
      },
      "execution_count": 24,
      "outputs": []
    },
    {
      "cell_type": "code",
      "source": [
        "rf.fit(X_train,y_train)"
      ],
      "metadata": {
        "colab": {
          "base_uri": "https://localhost:8080/",
          "height": 74
        },
        "id": "OXABSepVU7Xg",
        "outputId": "17fd6cbc-3f90-4804-95b9-39e0a3240135"
      },
      "execution_count": 32,
      "outputs": [
        {
          "output_type": "execute_result",
          "data": {
            "text/plain": [
              "RandomForestClassifier()"
            ],
            "text/html": [
              "<style>#sk-container-id-1 {color: black;background-color: white;}#sk-container-id-1 pre{padding: 0;}#sk-container-id-1 div.sk-toggleable {background-color: white;}#sk-container-id-1 label.sk-toggleable__label {cursor: pointer;display: block;width: 100%;margin-bottom: 0;padding: 0.3em;box-sizing: border-box;text-align: center;}#sk-container-id-1 label.sk-toggleable__label-arrow:before {content: \"▸\";float: left;margin-right: 0.25em;color: #696969;}#sk-container-id-1 label.sk-toggleable__label-arrow:hover:before {color: black;}#sk-container-id-1 div.sk-estimator:hover label.sk-toggleable__label-arrow:before {color: black;}#sk-container-id-1 div.sk-toggleable__content {max-height: 0;max-width: 0;overflow: hidden;text-align: left;background-color: #f0f8ff;}#sk-container-id-1 div.sk-toggleable__content pre {margin: 0.2em;color: black;border-radius: 0.25em;background-color: #f0f8ff;}#sk-container-id-1 input.sk-toggleable__control:checked~div.sk-toggleable__content {max-height: 200px;max-width: 100%;overflow: auto;}#sk-container-id-1 input.sk-toggleable__control:checked~label.sk-toggleable__label-arrow:before {content: \"▾\";}#sk-container-id-1 div.sk-estimator input.sk-toggleable__control:checked~label.sk-toggleable__label {background-color: #d4ebff;}#sk-container-id-1 div.sk-label input.sk-toggleable__control:checked~label.sk-toggleable__label {background-color: #d4ebff;}#sk-container-id-1 input.sk-hidden--visually {border: 0;clip: rect(1px 1px 1px 1px);clip: rect(1px, 1px, 1px, 1px);height: 1px;margin: -1px;overflow: hidden;padding: 0;position: absolute;width: 1px;}#sk-container-id-1 div.sk-estimator {font-family: monospace;background-color: #f0f8ff;border: 1px dotted black;border-radius: 0.25em;box-sizing: border-box;margin-bottom: 0.5em;}#sk-container-id-1 div.sk-estimator:hover {background-color: #d4ebff;}#sk-container-id-1 div.sk-parallel-item::after {content: \"\";width: 100%;border-bottom: 1px solid gray;flex-grow: 1;}#sk-container-id-1 div.sk-label:hover label.sk-toggleable__label {background-color: #d4ebff;}#sk-container-id-1 div.sk-serial::before {content: \"\";position: absolute;border-left: 1px solid gray;box-sizing: border-box;top: 0;bottom: 0;left: 50%;z-index: 0;}#sk-container-id-1 div.sk-serial {display: flex;flex-direction: column;align-items: center;background-color: white;padding-right: 0.2em;padding-left: 0.2em;position: relative;}#sk-container-id-1 div.sk-item {position: relative;z-index: 1;}#sk-container-id-1 div.sk-parallel {display: flex;align-items: stretch;justify-content: center;background-color: white;position: relative;}#sk-container-id-1 div.sk-item::before, #sk-container-id-1 div.sk-parallel-item::before {content: \"\";position: absolute;border-left: 1px solid gray;box-sizing: border-box;top: 0;bottom: 0;left: 50%;z-index: -1;}#sk-container-id-1 div.sk-parallel-item {display: flex;flex-direction: column;z-index: 1;position: relative;background-color: white;}#sk-container-id-1 div.sk-parallel-item:first-child::after {align-self: flex-end;width: 50%;}#sk-container-id-1 div.sk-parallel-item:last-child::after {align-self: flex-start;width: 50%;}#sk-container-id-1 div.sk-parallel-item:only-child::after {width: 0;}#sk-container-id-1 div.sk-dashed-wrapped {border: 1px dashed gray;margin: 0 0.4em 0.5em 0.4em;box-sizing: border-box;padding-bottom: 0.4em;background-color: white;}#sk-container-id-1 div.sk-label label {font-family: monospace;font-weight: bold;display: inline-block;line-height: 1.2em;}#sk-container-id-1 div.sk-label-container {text-align: center;}#sk-container-id-1 div.sk-container {/* jupyter's `normalize.less` sets `[hidden] { display: none; }` but bootstrap.min.css set `[hidden] { display: none !important; }` so we also need the `!important` here to be able to override the default hidden behavior on the sphinx rendered scikit-learn.org. See: https://github.com/scikit-learn/scikit-learn/issues/21755 */display: inline-block !important;position: relative;}#sk-container-id-1 div.sk-text-repr-fallback {display: none;}</style><div id=\"sk-container-id-1\" class=\"sk-top-container\"><div class=\"sk-text-repr-fallback\"><pre>RandomForestClassifier()</pre><b>In a Jupyter environment, please rerun this cell to show the HTML representation or trust the notebook. <br />On GitHub, the HTML representation is unable to render, please try loading this page with nbviewer.org.</b></div><div class=\"sk-container\" hidden><div class=\"sk-item\"><div class=\"sk-estimator sk-toggleable\"><input class=\"sk-toggleable__control sk-hidden--visually\" id=\"sk-estimator-id-1\" type=\"checkbox\" checked><label for=\"sk-estimator-id-1\" class=\"sk-toggleable__label sk-toggleable__label-arrow\">RandomForestClassifier</label><div class=\"sk-toggleable__content\"><pre>RandomForestClassifier()</pre></div></div></div></div></div>"
            ]
          },
          "metadata": {},
          "execution_count": 32
        }
      ]
    },
    {
      "cell_type": "markdown",
      "source": [
        "# PREDICT TEST DATA"
      ],
      "metadata": {
        "id": "qGQhuB2TWFx2"
      }
    },
    {
      "cell_type": "code",
      "source": [
        "y_pred=rf.predict(X_test)"
      ],
      "metadata": {
        "id": "oOkIRAycWJRY"
      },
      "execution_count": 33,
      "outputs": []
    },
    {
      "cell_type": "code",
      "source": [
        "y_pred"
      ],
      "metadata": {
        "colab": {
          "base_uri": "https://localhost:8080/"
        },
        "id": "pPbU2VnRWNr0",
        "outputId": "9303cedd-4db8-4995-8bb4-a8ac4e7835f4"
      },
      "execution_count": 34,
      "outputs": [
        {
          "output_type": "execute_result",
          "data": {
            "text/plain": [
              "array([2, 3, 5, 0, 7, 1, 0, 0, 6, 2, 6, 5, 2, 3, 8, 4, 2, 9, 0, 6, 6, 9,\n",
              "       6, 3, 4, 2, 7, 5, 6, 9, 5, 6, 6, 4, 3, 2, 0, 4, 0, 7, 6, 4, 6, 9,\n",
              "       2, 7, 1, 5, 2, 6, 6, 9, 9, 4, 2, 0, 9, 0, 6, 7, 8, 4, 2, 0, 7, 9,\n",
              "       8, 6, 8, 2, 7, 0, 1, 0, 7, 7, 9, 9, 5, 8, 4, 2, 9, 6, 4, 6, 3, 0,\n",
              "       3, 5, 3, 4, 3, 7, 5, 9, 2, 5, 2, 1, 5, 4, 3, 7, 5, 7, 6, 2, 2, 6,\n",
              "       1, 4, 6, 1, 7, 7, 8, 5, 0, 2, 4, 5, 9, 6, 7, 9, 0, 0, 9, 3, 1, 3,\n",
              "       0, 4, 8, 2, 0, 2, 1, 3, 6, 4, 0, 8, 8, 7, 5, 9, 4, 3, 7, 3, 6, 5,\n",
              "       9, 8, 7, 7, 3, 4, 2, 2, 6, 6, 7, 4, 2, 6, 8, 4, 5, 9, 5, 4, 6, 0,\n",
              "       1, 6, 2, 9, 0, 1, 9, 3, 8, 8, 2, 2, 7, 1, 0, 4, 0, 0, 7, 1, 2, 9,\n",
              "       9, 4, 5, 7, 8, 0, 6, 8, 3, 1, 1, 9, 5, 1, 5, 8, 1, 9, 6, 5, 7, 3,\n",
              "       0, 7, 0, 4, 7, 2, 0, 4, 5, 3, 9, 6, 0, 4, 1, 3, 9, 7, 9, 8, 1, 1,\n",
              "       4, 9, 8, 1, 5, 4, 5, 0, 6, 5, 5, 8, 6, 6, 2, 2, 4, 8, 3, 0, 9, 1,\n",
              "       7, 4, 0, 1, 3, 3, 4, 6, 9, 8, 8, 0, 3, 3, 3, 7, 5, 9, 2, 0, 5, 1,\n",
              "       5, 7, 9, 3, 5, 7, 0, 1, 5, 3, 9, 9, 2, 9, 6, 2, 6, 4, 4, 2, 8, 6,\n",
              "       5, 5, 6, 2, 9, 7, 1, 1, 9, 3, 5, 8, 2, 3, 4, 5, 7, 3, 9, 2, 6, 6,\n",
              "       4, 8, 4, 4, 1, 4, 1, 4, 7, 7, 3, 1, 0, 5, 4, 1, 2, 6, 5, 0, 5, 5,\n",
              "       5, 9, 8, 5, 8, 8, 3, 3, 5, 8, 6, 8, 0, 9, 3, 1, 1, 4, 4, 7, 6, 6,\n",
              "       5, 0, 0, 5, 2, 7, 9, 2, 2, 5, 9, 1, 0, 7, 2, 4, 5, 2, 8, 4, 3, 0,\n",
              "       3, 6, 6, 4, 2, 3, 0, 2, 4, 8, 1, 6, 5, 0, 7, 2, 2, 2, 4, 1, 8, 9,\n",
              "       0, 8, 1, 1, 7, 8, 4, 2, 7, 1, 1, 2, 6, 0, 3, 7, 8, 1, 5, 1, 1, 4,\n",
              "       3, 9, 5, 0, 8, 1, 8, 7, 1, 1, 3, 0, 9, 7, 2, 9, 3, 8, 4, 1, 0, 8,\n",
              "       3, 6, 7, 9, 6, 0, 0, 4, 9, 6, 9, 3, 2, 6, 7, 2, 1, 1, 9, 8, 1, 1,\n",
              "       9, 6, 1, 0, 1, 9, 1, 6, 2, 5, 8, 7, 8, 5, 0, 7, 1, 9, 0, 9, 8, 6,\n",
              "       1, 7, 1, 5, 8, 6, 8, 9, 6, 6, 7, 2, 3, 1, 4, 7, 7, 0, 1, 4, 9, 9,\n",
              "       4, 3, 4, 3, 6, 2, 1, 5, 8, 6, 7, 7])"
            ]
          },
          "metadata": {},
          "execution_count": 34
        }
      ]
    },
    {
      "cell_type": "markdown",
      "source": [
        "# MODEL ACCURACY"
      ],
      "metadata": {
        "id": "6ncVvSDCWT_n"
      }
    },
    {
      "cell_type": "code",
      "source": [
        "from sklearn.metrics import confusion_matrix,classification_report"
      ],
      "metadata": {
        "id": "fsCmS6pGWW8B"
      },
      "execution_count": 35,
      "outputs": []
    },
    {
      "cell_type": "code",
      "source": [
        "confusion_matrix(y_test,y_pred)"
      ],
      "metadata": {
        "colab": {
          "base_uri": "https://localhost:8080/"
        },
        "id": "160zSoGOWee9",
        "outputId": "e3500590-96ff-4b42-c63a-cb9b3408c18d"
      },
      "execution_count": 36,
      "outputs": [
        {
          "output_type": "execute_result",
          "data": {
            "text/plain": [
              "array([[52,  0,  0,  0,  1,  0,  0,  0,  0,  0],\n",
              "       [ 0, 54,  0,  0,  0,  0,  0,  0,  0,  0],\n",
              "       [ 1,  0, 55,  0,  0,  0,  0,  0,  0,  0],\n",
              "       [ 0,  0,  0, 47,  0,  0,  0,  0,  0,  0],\n",
              "       [ 0,  1,  0,  0, 52,  0,  0,  0,  0,  0],\n",
              "       [ 0,  0,  0,  0,  0, 52,  0,  0,  0,  1],\n",
              "       [ 1,  0,  0,  0,  0,  1, 60,  0,  0,  0],\n",
              "       [ 0,  0,  0,  0,  1,  0,  0, 54,  0,  1],\n",
              "       [ 0,  3,  0,  0,  0,  0,  0,  0, 46,  0],\n",
              "       [ 0,  1,  0,  0,  0,  0,  0,  0,  1, 55]])"
            ]
          },
          "metadata": {},
          "execution_count": 36
        }
      ]
    },
    {
      "cell_type": "code",
      "source": [
        "print(classification_report(y_test,y_pred))"
      ],
      "metadata": {
        "colab": {
          "base_uri": "https://localhost:8080/"
        },
        "id": "0DN7Ef4XWjT7",
        "outputId": "7387bc6b-e065-45e7-be2b-b672c4006b5c"
      },
      "execution_count": 37,
      "outputs": [
        {
          "output_type": "stream",
          "name": "stdout",
          "text": [
            "              precision    recall  f1-score   support\n",
            "\n",
            "           0       0.96      0.98      0.97        53\n",
            "           1       0.92      1.00      0.96        54\n",
            "           2       1.00      0.98      0.99        56\n",
            "           3       1.00      1.00      1.00        47\n",
            "           4       0.96      0.98      0.97        53\n",
            "           5       0.98      0.98      0.98        53\n",
            "           6       1.00      0.97      0.98        62\n",
            "           7       1.00      0.96      0.98        56\n",
            "           8       0.98      0.94      0.96        49\n",
            "           9       0.96      0.96      0.96        57\n",
            "\n",
            "    accuracy                           0.98       540\n",
            "   macro avg       0.98      0.98      0.98       540\n",
            "weighted avg       0.98      0.98      0.98       540\n",
            "\n"
          ]
        }
      ]
    },
    {
      "cell_type": "code",
      "source": [],
      "metadata": {
        "id": "IrOzEvT_WpH-"
      },
      "execution_count": null,
      "outputs": []
    },
    {
      "cell_type": "code",
      "source": [],
      "metadata": {
        "id": "cE-_DU_7XZFk"
      },
      "execution_count": null,
      "outputs": []
    }
  ]
}